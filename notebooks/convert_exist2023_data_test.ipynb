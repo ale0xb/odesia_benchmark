{
 "cells": [
  {
   "cell_type": "code",
   "execution_count": 2,
   "metadata": {},
   "outputs": [],
   "source": [
    "import pathlib as pl\n",
    "import pandas as pd"
   ]
  },
  {
   "cell_type": "code",
   "execution_count": 3,
   "metadata": {},
   "outputs": [],
   "source": [
    "train_file_path= '/Users/alexb/Documents/EXIST_2023_Shared_Task/training/EXIST2023_training.json'\n",
    "dev_file_path = '/Users/alexb/Documents/EXIST_2023_Shared_Task/dev/EXIST2023_dev.json'\n",
    "test_file_path = '/Users/alexb/Documents/EXIST_2023_Shared_Task/test/EXIST2023_test.json'\n",
    "gold_folder= '/Users/alexb/Documents/EXIST_2023_Shared_Task/evaluation/golds/'\n",
    "output_folder= './output/'\n",
    "# Make sure the output folder exists\n",
    "pl.Path(output_folder).mkdir(parents=True, exist_ok=True)\n"
   ]
  },
  {
   "cell_type": "code",
   "execution_count": 11,
   "metadata": {},
   "outputs": [],
   "source": [
    "split_data = {'train': pd.read_json(train_file_path, orient='index'), \n",
    "              'dev': pd.read_json(dev_file_path, orient='index'), \n",
    "              'test': pd.read_json(test_file_path, orient='index')}"
   ]
  },
  {
   "cell_type": "code",
   "execution_count": 12,
   "metadata": {},
   "outputs": [],
   "source": [
    "# Load the corresponding gold files into a dictionary (soft and hard) for each of the three tasks (1, 2, 3)\n",
    "# Example file name: EXIST2023_training_task1_gold_hard.json\n",
    "gold_data = {}\n",
    "for task in range(1, 4):\n",
    "    gold_data[task] = {}\n",
    "    for gold_type in ['hard', 'soft']:\n",
    "        train_gold_file_path = pl.Path(gold_folder) / f'EXIST2023_training_task{task}_gold_{gold_type}.json'\n",
    "        dev_gold_file_path = pl.Path(gold_folder) / f'EXIST2023_dev_task{task}_gold_{gold_type}.json'\n",
    "        test_gold_file_path = pl.Path(gold_folder) / f'EXIST2023_test_task{task}_gold_{gold_type}.json'\n",
    "        # Merge train, dev and test gold files\n",
    "        gold_df = pd.concat([pd.read_json(train_gold_file_path, orient='index'), \n",
    "                             pd.read_json(dev_gold_file_path, orient='index'), \n",
    "                             pd.read_json(test_gold_file_path, orient='index')])\n",
    "        # Now load data into dataframe\n",
    "        gold_data[task][gold_type] = gold_df"
   ]
  },
  {
   "cell_type": "code",
   "execution_count": 14,
   "metadata": {},
   "outputs": [],
   "source": [
    "# Now join the gold data to the split data\n",
    "for task in range(1, 4):\n",
    "    for gold_type in ['hard', 'soft']:\n",
    "        for split, data in split_data.items():\n",
    "            prefix = f'task{task}_'\n",
    "            new_df = gold_data[task][gold_type].add_prefix(prefix)\n",
    "            overlap = set(data.columns) & set(new_df.columns)\n",
    "            if overlap:\n",
    "                data = data.join(new_df, lsuffix='_left', rsuffix='_right')\n",
    "            else:\n",
    "                data = data.join(new_df)\n",
    "            split_data[split] = data\n",
    "\n",
    "            "
   ]
  },
  {
   "cell_type": "code",
   "execution_count": 25,
   "metadata": {},
   "outputs": [],
   "source": [
    "# For each task, create a folder with the corresponding data\n",
    "for task in range(1, 4):\n",
    "    # Create output folder for this task\n",
    "    task_output_folder = pl.Path(output_folder, f'exist_2023_t{task}')\n",
    "    task_output_folder.mkdir(parents=True, exist_ok=True)\n",
    "    for split, data in split_data.items():\n",
    "        for lang in ['en', 'es']:\n",
    "            # Select rows with the corresponding language\n",
    "            lang_data = data[data['lang'] == lang]\n",
    "            # Select columns with the corresponding task\n",
    "            task_columns = [col for col in lang_data.columns if f'task{task}_' in col] + ['id_EXIST', 'tweet']\n",
    "            task_data = lang_data[task_columns]\n",
    "            # Rename columns to remove the prefix\n",
    "            task_data = task_data.rename(columns={col: col.replace(f'task{task}_', '') for col in task_columns})\n",
    "            # Rename tweet and id columns\n",
    "            task_data = task_data.rename(columns={'id_EXIST': 'id', 'tweet': 'text'})\n",
    "            # Save to json file, pretty printed\n",
    "            output_file_path = task_output_folder / f'{split}_{lang}.json' \n",
    "            task_data.to_json(output_file_path, orient='records', lines=True, force_ascii=False, indent=4)        "
   ]
  },
  {
   "cell_type": "code",
   "execution_count": 24,
   "metadata": {},
   "outputs": [
    {
     "data": {
      "text/plain": [
       "['task3_hard_label', 'task3_soft_label', 'id_EXIST', 'tweet']"
      ]
     },
     "execution_count": 24,
     "metadata": {},
     "output_type": "execute_result"
    }
   ],
   "source": [
    "task_columns"
   ]
  },
  {
   "cell_type": "code",
   "execution_count": null,
   "metadata": {},
   "outputs": [],
   "source": []
  }
 ],
 "metadata": {
  "kernelspec": {
   "display_name": "odesia_benchmark",
   "language": "python",
   "name": "python3"
  },
  "language_info": {
   "codemirror_mode": {
    "name": "ipython",
    "version": 3
   },
   "file_extension": ".py",
   "mimetype": "text/x-python",
   "name": "python",
   "nbconvert_exporter": "python",
   "pygments_lexer": "ipython3",
   "version": "3.10.13"
  }
 },
 "nbformat": 4,
 "nbformat_minor": 2
}
